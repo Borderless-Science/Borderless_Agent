{
 "cells": [
  {
   "cell_type": "code",
   "execution_count": null,
   "metadata": {
   },
   "outputs": [
    {
     "data": {
      "text/plain": [
       "True"
      ]
     },
     "execution_count": 1,
     "output_type": "execute_result"
    }
   ],
   "source": [
    "import sqlite3\n",
    "import os\n",
    "import glob\n",
    "\n",
    "from textwrap import dedent\n",
    "from dotenv import load_dotenv\n",
    "from IPython.display import display, Markdown\n",
    "\n",
    "import pandas as pd\n",
    "from pydantic import Field\n",
    "from crewai import LLM\n",
    "from crewai import Agent, Crew, Process, Task\n",
    "from crewai.tools import tool, BaseTool\n",
    "from langchain.schema.output import LLMResult\n",
    "from langchain_community.tools.sql_database.tool import (\n",
    "    InfoSQLDatabaseTool,\n",
    "    ListSQLDatabaseTool,\n",
    "    QuerySQLCheckerTool,\n",
    "    QuerySQLDataBaseTool,\n",
    ")\n",
    "from langchain_community.utilities import GoogleSerperAPIWrapper\n",
    "from langchain_community.utilities.sql_database import SQLDatabase\n",
    "from langchain_google_genai import ChatGoogleGenerativeAI\n",
    "\n",
    "load_dotenv()"
   ]
  },
  {
   "cell_type": "code",
   "execution_count": null,
   "metadata": {
    "colab": {
     "base_uri": "https://localhost:8080/"
    },
    "id": "SGywo7qDMH8w",
    "outputId": "2a99dc72-4503-4e5f-b686-47281f643882"
   },
   "outputs": [],
   "source": [
    "# conn = sqlite3.connect(\"tcmbank_database.db\")\n",
    "\n",
    "# # Get all CSV files in a folder\n",
    "# csv_files = glob.glob(os.path.join(\"..\", \"data\", \"raw\", \"tcm_bank_csv\", \"*.csv\"))\n",
    "# print(csv_files)\n",
    "\n",
    "# # Loop through CSV files and import each into SQLite\n",
    "# for file in csv_files:\n",
    "#     # Use filename (without extension) as table name\n",
    "#     table_name = file.split(\"\\\\\")[-1].replace(\".csv\", \"\")\n",
    "\n",
    "#     # Read CSV into DataFrame, trying 'latin-1' encoding\n",
    "#     try:\n",
    "#         df = pd.read_csv(file, encoding='latin-1')\n",
    "#     except UnicodeDecodeError:\n",
    "#         # If 'latin-1' fails, try another common encoding like 'cp1252'\n",
    "#         try:\n",
    "#             df = pd.read_csv(file, encoding='cp1252')\n",
    "#         except Exception as e:\n",
    "#             print(f\"Could not read file {file} with latin-1 or cp1252 encoding: {e}\")\n",
    "#             continue # Skip to the next file\n",
    "\n",
    "#     # Write to SQLite (if table exists, replace it)\n",
    "#     df.to_sql(table_name, conn, if_exists=\"replace\", index=False)\n",
    "\n",
    "# print(\"All CSV files have been imported into SQLite!\")\n",
    "# conn.close()"
   ]
  },
  {
   "cell_type": "code",
   "execution_count": null,
   "metadata": {
    "colab": {
     "base_uri": "https://localhost:8080/"
    },
    "id": "_LoPfHmwO0IC",
    "outputId": "1f46a90f-f9f2-4326-e29a-78072f3c5452"
   },
   "outputs": [],
   "source": [
    "llm = ChatGoogleGenerativeAI(model=\"gemini-2.5-flash-lite\", temperature=0.1)\n",
    "agent= LLM(model=\"gemini/gemini-2.5-flash-lite\", temperature=0.1)"
   ]
  },
  {
   "cell_type": "code",
   "execution_count": null,
   "metadata": {
    "id": "PjIdH6zRSi2w"
   },
   "outputs": [],
   "source": [
    "db = SQLDatabase.from_uri(\"sqlite:///../server/tcmbank_database.db\")"
   ]
  },
  {
   "cell_type": "code",
   "execution_count": null,
   "metadata": {
    "colab": {
     "base_uri": "https://localhost:8080/",
     "height": 111
    },
    "id": "MIMIGr12Sizl",
    "outputId": "156f4f44-f5a1-423e-ec6b-e6bf53a85797"
   },
   "outputs": [],
   "source": [
    "@tool(\"list_tables\")\n",
    "def list_tables() -> str:\n",
    "  \"\"\"List the available tables in the database\"\"\"\n",
    "  return ListSQLDatabaseTool(db=db).invoke(\"\")\n",
    "\n",
    "list_tables.run()"
   ]
  },
  {
   "cell_type": "code",
   "execution_count": null,
   "metadata": {
    "colab": {
     "base_uri": "https://localhost:8080/"
    },
    "id": "ttvSGl6uSixI",
    "outputId": "5ff3bfb1-3e0b-4b4c-b6c8-fed4bf3b6ea1"
   },
   "outputs": [],
   "source": [
    "@tool(\"tables_schema\")\n",
    "def tables_schema(tables: str) -> str:\n",
    "  \"\"\"\n",
    "  Input is a comma-separated list of tables, output is the schema and sample rows for those\n",
    "  tables. Be sure that the tables actually exist before calling `list_tables` first!\n",
    "  Example Input: table1, table2, table3\n",
    "  \"\"\"\n",
    "  tool = InfoSQLDatabaseTool(db=db)\n",
    "  return tool.invoke(tables)\n",
    "\n",
    "print(tables_schema.run(\"herb_all\"))"
   ]
  },
  {
   "cell_type": "code",
   "execution_count": null,
   "metadata": {
    "colab": {
     "base_uri": "https://localhost:8080/",
     "height": 184
    },
    "id": "4ENB9f_-Siu8",
    "outputId": "8d141aca-54c6-4b21-da55-d7fc81bad63f"
   },
   "outputs": [],
   "source": [
    "@tool(\"execute_sql\")\n",
    "def execute_sql(sql_query: str) -> str:\n",
    "  \"\"\"Execute a SQL query against the database. Returns the result\"\"\"\n",
    "  return QuerySQLDataBaseTool(db=db).invoke(sql_query)\n",
    "\n",
    "execute_sql.run(\"SELECT * FROM herb_all WHERE TCM_name_en LIKE '%Turpentine Oil%'\")\n",
    "# execute_sql.run(\"SELECT DISTINCT TCM_name_en FROM herb_all\")"
   ]
  },
  {
   "cell_type": "code",
   "execution_count": null,
   "metadata": {
    "colab": {
     "base_uri": "https://localhost:8080/",
     "height": 111
    },
    "id": "bNdyxC44SisR",
    "outputId": "19708ce2-17f8-443d-8cab-22c00039ed64"
   },
   "outputs": [],
   "source": [
    "@tool(\"check_sql\")\n",
    "def check_sql(sql_query: str) -> str:\n",
    "  \"\"\"\n",
    "  Use this tool to double check if your query is correct before executing it. Always use this tool before\n",
    "  using executing a query with `execute_sql`.\n",
    "  \"\"\"\n",
    "  # Use the LangChain ChatGoogleGenerativeAI instance instead of the crewai.LLM wrapper\n",
    "  return QuerySQLCheckerTool(db=db, llm=llm).invoke({\"query\": sql_query})\n",
    "\n",
    "check_sql.run(\"SELECT DITINCT TCM_name_en FRO herb_all\")"
   ]
  },
  {
   "cell_type": "code",
   "execution_count": null,
   "metadata": {},
   "outputs": [],
   "source": [
    "search = GoogleSerperAPIWrapper\n",
    "\n",
    "class SearchTool(BaseTool):\n",
    "    name: str = \"search\"\n",
    "    description: str = \"A search engine. Useful for when you need to find information about current events or topics that are not in your database. Input should be a search query.\"\n",
    "    search: GoogleSerperAPIWrapper = Field(default_factory=GoogleSerperAPIWrapper)\n",
    "\n",
    "    def _run(self, query: str) -> str:\n",
    "        \"\"\"Execute the search query and return the results.\"\"\"\n",
    "        try:\n",
    "            return self.search.run(query)\n",
    "        except Exception as e:\n",
    "            return f\"Error performing search: {str(e)}\"\n",
    "        \n",
    "search_tool = SearchTool()\n",
    "# search_tool.run(\"What is oregano used for?\")    "
   ]
  },
  {
   "cell_type": "markdown",
   "metadata": {
    "id": "zydnBBbGceUj"
   },
   "source": [
    "### Creating Agents"
   ]
  },
  {
   "cell_type": "code",
   "execution_count": null,
   "metadata": {
    "id": "XaenK_RvSipw"
   },
   "outputs": [],
   "source": [
    "sql_dev = Agent(\n",
    "    role=\"Senior Database Developer\",\n",
    "    goal=\"Construct and execute SQL queries based on a request\",\n",
    "    backstory=dedent(\n",
    "        \"\"\"\n",
    "        You are an experienced database engineer who is master at creating efficient and complex SQL queries.\n",
    "        You have a deep understanding of how different databases work and how to optimize queries.\n",
    "        You have access to the following table descriptions to help you understand the database schema:\n",
    "\n",
    "        *   **disease_all:** This table contains information about various diseases, including their names and potentially related Traditional Chinese Medicine (TCM) concepts. Key columns might include disease names in English and Chinese, and possibly links to other relevant data.<br>**Use For**: Disease identification, medical classifications, symptom mapping, disease relationships.\n",
    "        *   **gene_all:** This table contains information about genes/proteins that serve as therapeutic targets with chromosomal locations and target validation status. Key columns might include gene identifiers and names.<br>**Use For**: Disease identification, medical classifications, symptom mapping, disease relationships.\n",
    "        *   **herb_all:** This table contains information about traditional Chinese herbs. It includes details such as TCM names, English names, Latin names, properties, meridians, functions, and indications.<br>**Use For**: Traditional TCM knowledge, herb properties, meridian theory, classical indications\n",
    "        *   **ingredient_all:** This table contains information about active chemical ingredients/compounds found in TCM herbs. It includes various identifiers, chemical properties, and potentially links to herbs or formulas.<br>**Use For**: Chemical structures, drug-likeness, pharmacokinetic properties, molecular identification\n",
    "\n",
    "        ## Key Relationships & Data Flow\n",
    "\n",
    "        **Primary Research Chain**: Herbs → Ingredients → Genes → Diseases\n",
    "\n",
    "        ### Critical Connections:\n",
    "        1. **TCMBank_ID**: Links herbs to their constituent ingredients\n",
    "        2. **Source_ID**: Cross-references across external databases\n",
    "        3. **Traditional-Modern Bridge**: Herb indications ↔ Disease classifications\n",
    "        4. **Molecular Mechanisms**: Ingredient structures ↔ Gene targets ↔ Disease pathways\n",
    "\n",
    "        ## Retrieval Instructions\n",
    "\n",
    "        ### Query Processing Strategy:\n",
    "        1. **Identify Query Type**:\n",
    "          - Traditional TCM (herb names, properties, meridians)\n",
    "          - Chemical/Molecular (compound names, structures, targets)\n",
    "          - Medical (diseases, symptoms, conditions)\n",
    "          - Mechanistic (how/why questions about TCM effects)\n",
    "\n",
    "        2. **Multi-File Search Approach**:\n",
    "          - **Single Entity Queries**: Start with the most relevant file, then expand\n",
    "          - **Relationship Queries**: Search across multiple files simultaneously\n",
    "          - **Mechanism Queries**: Follow the Herb→Ingredient→Gene→Disease pathway\n",
    "\n",
    "        3. **Search Field Prioritization**:\n",
    "          - **Primary**: Exact name matches, IDs\n",
    "          - **Secondary**: Aliases, synonyms, alternative names\n",
    "          - **Tertiary**: Descriptions, functions, classifications\n",
    "          - **Contextual**: Related terms, broader categories\n",
    "\n",
    "        ### Specific Retrieval Patterns:\n",
    "\n",
    "        **For Traditional TCM Queries**:\n",
    "        - Search herb_all for: TCM_name, Properties, Meridians, Function, Indication\n",
    "        - Cross-reference with ingredient_all using TCMBank_ID\n",
    "        - Link to disease_all through indication matching\n",
    "\n",
    "        **For Chemical/Pharmacological Queries**:\n",
    "        - Search ingredient_all for: compound names, molecular properties, ADMET data\n",
    "        - Connect to gene_all for target information\n",
    "        - Trace back to herb_all for source herbs\n",
    "\n",
    "        **For Disease/Medical Queries**:\n",
    "        - Search disease_all using multiple classification systems\n",
    "        - Find related genes in gene_all\n",
    "        - Identify targeting ingredients in ingredient_all\n",
    "        - Trace to source herbs in herb_all\n",
    "\n",
    "        **For Mechanism/Integration Queries**:\n",
    "        - Follow complete pathway: specific herb → active ingredients → molecular targets → disease effects\n",
    "        - Use cross-references and IDs to maintain data integrity\n",
    "        - Combine traditional knowledge with molecular evidence\n",
    "\n",
    "\n",
    "        Use the `list_tables` to find available tables.\n",
    "        Use the `tables_schema` to understand the metadata for the tables.\n",
    "        Use the `check_sql` to check your queries for correctness.\n",
    "        Use the `execute_sql` to execute queries against the database.\n",
    "        Use the `search_tool` to find information outside of the database.\n",
    "    \"\"\"\n",
    "    ),\n",
    "    llm=agent,\n",
    "    tools=[list_tables, tables_schema, execute_sql, check_sql, search_tool],\n",
    "    allow_delegation=False,\n",
    ")"
   ]
  },
  {
   "cell_type": "code",
   "execution_count": null,
   "metadata": {
    "id": "Sc76DPZ6SinU"
   },
   "outputs": [],
   "source": [
    "data_analyst = Agent(\n",
    "    role=\"Senior Data Analyst\",\n",
    "    goal=\"Transform retrieved botanical research into structured JSON\",\n",
    "    backstory=dedent(\n",
    "        \"\"\"\n",
    "        You have deep experience with analyzing datasets using Python.\n",
    "        Your work is always based on the provided data and is clear,\n",
    "        easy-to-understand and to the point. You have attention\n",
    "        to detail and always produce very detailed work (as long as you need).\n",
    "    \"\"\"\n",
    "    ),\n",
    "    llm=agent,\n",
    "    allow_delegation=False,\n",
    ")"
   ]
  },
  {
   "cell_type": "code",
   "execution_count": null,
   "metadata": {
    "id": "Fcs96o9CSilH"
   },
   "outputs": [],
   "source": [
    "research_formatter = Agent(\n",
    "    role=\"Formatter Specialist\",\n",
    "    goal=\"Transform retrieved botanical research into structured JSON\",\n",
    "    backstory=dedent(\n",
    "        \"You are a highly disciplined data formatter. \"\n",
    "        \"Your sole responsibility is to take research output from the retriever agent \"\n",
    "        \"and convert it into a concise, standardized JSON structure for UI rendering.\"\n",
    "    ),\n",
    "    instructions=dedent(\n",
    "        \"\"\"\n",
    "    - Input: messy or verbose botanical research data from the retriever agent.\n",
    "    - Output: valid JSON matching the schema below.\n",
    "    - Do not include explanations, markdown, or extra text.\n",
    "    - If information is missing, omit that field.\n",
    "    - Always ensure valid JSON syntax.\n",
    "\n",
    "    JSON Schema:\n",
    "    {\n",
    "      \"specimen_description\": {\n",
    "        \"botanical_name\": \"string\",\n",
    "        \"common_names\": [\"string\"],\n",
    "        \"part_used\": \"string\",\n",
    "        \"preparation_form\": \"string\",\n",
    "        \"morphology\": \"string\"\n",
    "      },\n",
    "      \"key_compounds\": [\n",
    "        {\n",
    "          \"compound\": \"string\",\n",
    "          \"class\": \"string\",\n",
    "          \"concentration_mg_g\": number,\n",
    "          \"function\": \"string\"\n",
    "        }\n",
    "      ],\n",
    "      \"compound_distribution\": {\n",
    "        \"Flavonoid\": number,\n",
    "        \"Phenolic acid\": number,\n",
    "        \"Carotenoid\": number,\n",
    "        \"Mineral\": number\n",
    "      },\n",
    "      \"toxicities_and_deficiencies\": {\n",
    "        \"toxicities\": [\"string\"],\n",
    "        \"deficiencies\": [\"string\"]\n",
    "      },\n",
    "      \"complementary_botanicals\": {\n",
    "        \"iron_deficiency_anemia\": [\"string\"],\n",
    "        \"enhanced_bioavailability\": [\"string\"]\n",
    "      },\n",
    "      \"treatable_ailments\": [\"string\"],\n",
    "      \"pharmaceutical_comparison\": [\n",
    "        {\n",
    "          \"pharmaceutical\": \"string\",\n",
    "          \"comparison\": \"string\"\n",
    "        }\n",
    "      ]\n",
    "    }\n",
    "\n",
    "    botanical_name: Latin name of the herb.\n",
    "    common_names: List of common names in English.\n",
    "    part_used: Part of the plant used medicinally (e.g., leaves, roots).\n",
    "    preparation_form: Form in which the herb is prepared (e.g., extract, powder).\n",
    "    morphology: Description of the plant's physical characteristics.\n",
    "    key_compounds: List of key chemical compounds found in the herb.\n",
    "        compound: Name of the compound.\n",
    "        class: Chemical class (e.g., Flavonoid, Alkaloid).\n",
    "        concentration_mg_g: Concentration in mg/g.\n",
    "        function: Biological function or effect.\n",
    "    compound_distribution: Distribution of major compound classes as percentages.\n",
    "        Flavonoid: Percentage of flavonoids.\n",
    "        Phenolic acid: Percentage of phenolic acids.\n",
    "        Carotenoid: Percentage of carotenoids.\n",
    "        Mineral: Percentage of minerals.\n",
    "    toxicities_and_deficiencies: Known toxicities and nutrient deficiencies.\n",
    "        toxicities: List of known toxic effects.\n",
    "        deficiencies: List of nutrient deficiencies caused by the herb.\n",
    "    complementary_botanicals: Plants that enhance therapeutic effect or bioavailability when combined.\n",
    "        iron_deficiency_anemia (example condition-specific synergy) → Plants that pair well to treat a given ailment.\n",
    "        enhanced_bioavailability → Plants that improve absorption of key compounds.\n",
    "    treatable_ailments: List of ailments treatable with this herb.\n",
    "    pharmaceutical_comparison: Comparison with conventional pharmaceuticals.\n",
    "    \"\"\"\n",
    "    ),\n",
    "    llm=agent,\n",
    "    allow_delegation=False,\n",
    ")"
   ]
  },
  {
   "cell_type": "code",
   "execution_count": null,
   "metadata": {
    "colab": {
     "base_uri": "https://localhost:8080/"
    },
    "id": "fdd7UIvd8AnU",
    "outputId": "8a2dca99-834e-45f4-fbad-09fb4ba5acad"
   },
   "outputs": [],
   "source": [
    "# # Basic API setup (port: 8080, path: /mcp)\n",
    "# # !SERVER_TRANSPORT=streamable-http SERVER_PORT=3001 npx @sei-js/mcp-server\n",
    "\n",
    "# # Point CrewAI to your SEI MCP server\n",
    "# server_params = {\n",
    "#     \"url\": \"http://localhost:8080/mcp\"   # matches the SEI server\n",
    "# }\n",
    "\n",
    "# # Managed connection context (auto start/stop)\n",
    "# with MCPServerAdapter(server_params, connect_timeout=60) as tools:\n",
    "#     print(\"Available tools from SEI MCP server:\", [t.name for t in tools])\n",
    "\n",
    "#     # Create an agent that can use the SEI MCP tools\n",
    "#     sei_agent = Agent(\n",
    "#         role=\"SEI Integrator\",\n",
    "#         goal=\"Use SEI MCP tools to query blockchain or perform tasks.\",\n",
    "#         backstory=\"Specialist agent that integrates with SEI MCP server.\",\n",
    "#         tools=tools,\n",
    "#         verbose=True\n",
    "#     )\n",
    "\n",
    "#     # Create a task that tells CrewAI which tool to use\n",
    "#     sei_task = Task(\n",
    "#         description=f\"Use `{tools[0].name}` to fetch some data from SEI.\",  # pick an actual tool name\n",
    "#         expected_output=\"Response from the SEI MCP tool.\",\n",
    "#         agent=sei_agent,\n",
    "#     )\n",
    "\n",
    "#     crew = Crew(\n",
    "#         agents=[sei_agent],\n",
    "#         tasks=[sei_task],\n",
    "#         process=Process.sequential,\n",
    "#         verbose=True\n",
    "#     )\n",
    "\n",
    "#     result = crew.kickoff()\n",
    "#     print(\"Crew Task Result:\", result)\n",
    "\n"
   ]
  },
  {
   "cell_type": "markdown",
   "metadata": {
    "id": "676YeRemeLok"
   },
   "source": [
    "### Create Tasks"
   ]
  },
  {
   "cell_type": "code",
   "execution_count": null,
   "metadata": {
    "id": "1T1cE5wvSijX"
   },
   "outputs": [],
   "source": [
    "extract_data = Task(\n",
    "    description=(\"Extract data that is required for the query {query}.\"\n",
    "                 \" First figure out which tables to use and what SQL query to run.\"\n",
    "                 \"query the database using latin name if common name search fails.\"\n",
    "                 \" Then check the SQL query for correctness and execute it.\"\n",
    "                 \" Finally analyze the data and return the results.\"\n",
    "                 \" Only use the tools available to you. Do not make up any data.\"\n",
    "                 \"for each query, return: the botanical name, common names, part used, preparation form, key compounds, toxicities and deficiencies, complimentary botanicals, treatable ailments, pharmaceutical comparisons and morphology of the herb mentioned in the query.\"\n",
    "                 \" If you cannot find the data for any of these fields in the database, search for it using the search tool.\"\n",
    "                 \"If there are multiple herbs mentioned in the query, return the information for all of them. If no herbs are mentioned in the query, return an empty result.\"),\n",
    "    expected_output=\"Database result for the query including botanical name, common names, part used, preparation form and morphology of the herb.\",\n",
    "    agent=sql_dev,\n",
    ")"
   ]
  },
  {
   "cell_type": "code",
   "execution_count": null,
   "metadata": {
    "id": "ak1lZNugSih7"
   },
   "outputs": [],
   "source": [
    "analyze_data = Task(\n",
    "    description=(\"Analyze the data from the database and write an analysis for {query}.\"\n",
    "                 \" Make sure to base your analysis on the provided data and do not make up any information.\"\n",
    "                 \" If the data is incomplete or insufficient, state that in your analysis.\"\n",
    "                 \" Write a detailed analysis that covers all aspects of the data.\"\n",
    "                 \" The analysis should be easy to understand and to the point.\"\n",
    "                 \" Use bullet points, tables or other formatting to make the analysis clear.\"\n",
    "                 \" The analysis should be comprehensive and cover all relevant details.\"),\n",
    "    expected_output=\"Detailed analysis text\",\n",
    "    agent=data_analyst,\n",
    "    context=[extract_data],\n",
    ")"
   ]
  },
  {
   "cell_type": "code",
   "execution_count": null,
   "metadata": {
    "id": "Hcc4_FdvSie-"
   },
   "outputs": [],
   "source": [
    "format_output = Task(\n",
    "    description=(\n",
    "        \"Convert the retrieved information from the analysis into the standardized JSON format\"\n",
    "    ),\n",
    "    expected_output=\"json output\",\n",
    "    agent=research_formatter,\n",
    "    context=[analyze_data],\n",
    ")"
   ]
  },
  {
   "cell_type": "code",
   "execution_count": null,
   "metadata": {
    "id": "hGO-aB-WSicC"
   },
   "outputs": [],
   "source": [
    "crew = Crew(\n",
    "    agents=[sql_dev, data_analyst, research_formatter],\n",
    "    tasks=[extract_data, analyze_data, format_output],\n",
    "    process=Process.sequential,\n",
    "    verbose=False,\n",
    "    memory=False,\n",
    ")"
   ]
  },
  {
   "cell_type": "code",
   "execution_count": null,
   "metadata": {
    "colab": {
     "base_uri": "https://localhost:8080/",
     "height": 1000,
     "referenced_widgets": [
      "57bd3f83cfa14e5ba178ee86e178e82c",
      "1d36e19c9e094ec09133d16028ae2201",
      "d4e24cfe81874b2ab3a4c4c5212f1aa9",
      "0f202cb8680f44a4add12be146113e2f",
      "bbd4835f37b34e0cbdfd8084798de7dd",
      "153cc59362fe402ba54df08716dab685",
      "d20252f9a28e4f768e9531fd2f8c3151",
      "0f9bbc6918b746fb9af17ee99760d8f7",
      "ee796e6d7ab140da9f2b06a77e797dd0",
      "92909288908a460dadabf23a16bfe843",
      "41d9c621ebd145cebdc61930bb216a3a",
      "b30a16918bb145bb9cce48aa08beff6b"
     ]
    },
    "id": "fcJcRIWpSiZ0",
    "outputId": "74e3d2b4-628a-4cd7-ec77-943d796d1035"
   },
   "outputs": [],
   "source": [
    "inputs = {\n",
    "    \"query\": \"bitter leaf\"\n",
    "}\n",
    "\n",
    "result = crew.kickoff(inputs=inputs)\n",
    "display(Markdown(result.raw))\n"
   ]
  },
  {
   "cell_type": "code",
   "execution_count": null,
   "metadata": {
    "id": "6orLMbzZSiVI"
   },
   "outputs": [],
   "source": []
  }
 ],
 "metadata": {
  "colab": {
   "provenance": []
  },
  "kernelspec": {
   "display_name": "crewai-py311",
   "language": "python",
   "name": "python3"
  },
  "language_info": {
   "codemirror_mode": {
    "name": "ipython",
    "version": 3
   },
   "file_extension": ".py",
   "mimetype": "text/x-python",
   "name": "python",
   "nbconvert_exporter": "python",
   "pygments_lexer": "ipython3",
   "version": "3.11.13"
  },
  "widgets": {
   "application/vnd.jupyter.widget-state+json": {
    "0f202cb8680f44a4add12be146113e2f": {
     "model_module": "@jupyter-widgets/base",
     "model_module_version": "1.2.0",
     "model_name": "LayoutModel",
     "state": {
      "_model_module": "@jupyter-widgets/base",
      "_model_module_version": "1.2.0",
      "_model_name": "LayoutModel",
      "_view_count": null,
      "_view_module": "@jupyter-widgets/base",
      "_view_module_version": "1.2.0",
      "_view_name": "LayoutView",
      "align_content": null,
      "align_items": null,
      "align_self": null,
      "border": null,
      "bottom": null,
      "display": null,
      "flex": null,
      "flex_flow": null,
      "grid_area": null,
      "grid_auto_columns": null,
      "grid_auto_flow": null,
      "grid_auto_rows": null,
      "grid_column": null,
      "grid_gap": null,
      "grid_row": null,
      "grid_template_areas": null,
      "grid_template_columns": null,
      "grid_template_rows": null,
      "height": null,
      "justify_content": null,
      "justify_items": null,
      "left": null,
      "margin": null,
      "max_height": null,
      "max_width": null,
      "min_height": null,
      "min_width": null,
      "object_fit": null,
      "object_position": null,
      "order": null,
      "overflow": null,
      "overflow_x": null,
      "overflow_y": null,
      "padding": null,
      "right": null,
      "top": null,
      "visibility": null,
      "width": null
     }
    },
    "0f9bbc6918b746fb9af17ee99760d8f7": {
     "model_module": "@jupyter-widgets/base",
     "model_module_version": "1.2.0",
     "model_name": "LayoutModel",
     "state": {
      "_model_module": "@jupyter-widgets/base",
      "_model_module_version": "1.2.0",
      "_model_name": "LayoutModel",
      "_view_count": null,
      "_view_module": "@jupyter-widgets/base",
      "_view_module_version": "1.2.0",
      "_view_name": "LayoutView",
      "align_content": null,
      "align_items": null,
      "align_self": null,
      "border": null,
      "bottom": null,
      "display": null,
      "flex": null,
      "flex_flow": null,
      "grid_area": null,
      "grid_auto_columns": null,
      "grid_auto_flow": null,
      "grid_auto_rows": null,
      "grid_column": null,
      "grid_gap": null,
      "grid_row": null,
      "grid_template_areas": null,
      "grid_template_columns": null,
      "grid_template_rows": null,
      "height": null,
      "justify_content": null,
      "justify_items": null,
      "left": null,
      "margin": null,
      "max_height": null,
      "max_width": null,
      "min_height": null,
      "min_width": null,
      "object_fit": null,
      "object_position": null,
      "order": null,
      "overflow": null,
      "overflow_x": null,
      "overflow_y": null,
      "padding": null,
      "right": null,
      "top": null,
      "visibility": null,
      "width": null
     }
    },
    "153cc59362fe402ba54df08716dab685": {
     "model_module": "@jupyter-widgets/base",
     "model_module_version": "1.2.0",
     "model_name": "LayoutModel",
     "state": {
      "_model_module": "@jupyter-widgets/base",
      "_model_module_version": "1.2.0",
      "_model_name": "LayoutModel",
      "_view_count": null,
      "_view_module": "@jupyter-widgets/base",
      "_view_module_version": "1.2.0",
      "_view_name": "LayoutView",
      "align_content": null,
      "align_items": null,
      "align_self": null,
      "border": null,
      "bottom": null,
      "display": null,
      "flex": null,
      "flex_flow": null,
      "grid_area": null,
      "grid_auto_columns": null,
      "grid_auto_flow": null,
      "grid_auto_rows": null,
      "grid_column": null,
      "grid_gap": null,
      "grid_row": null,
      "grid_template_areas": null,
      "grid_template_columns": null,
      "grid_template_rows": null,
      "height": null,
      "justify_content": null,
      "justify_items": null,
      "left": null,
      "margin": null,
      "max_height": null,
      "max_width": null,
      "min_height": null,
      "min_width": null,
      "object_fit": null,
      "object_position": null,
      "order": null,
      "overflow": null,
      "overflow_x": null,
      "overflow_y": null,
      "padding": null,
      "right": null,
      "top": null,
      "visibility": null,
      "width": null
     }
    },
    "1d36e19c9e094ec09133d16028ae2201": {
     "model_module": "@jupyter-widgets/base",
     "model_module_version": "1.2.0",
     "model_name": "LayoutModel",
     "state": {
      "_model_module": "@jupyter-widgets/base",
      "_model_module_version": "1.2.0",
      "_model_name": "LayoutModel",
      "_view_count": null,
      "_view_module": "@jupyter-widgets/base",
      "_view_module_version": "1.2.0",
      "_view_name": "LayoutView",
      "align_content": null,
      "align_items": null,
      "align_self": null,
      "border": null,
      "bottom": null,
      "display": null,
      "flex": null,
      "flex_flow": null,
      "grid_area": null,
      "grid_auto_columns": null,
      "grid_auto_flow": null,
      "grid_auto_rows": null,
      "grid_column": null,
      "grid_gap": null,
      "grid_row": null,
      "grid_template_areas": null,
      "grid_template_columns": null,
      "grid_template_rows": null,
      "height": null,
      "justify_content": null,
      "justify_items": null,
      "left": null,
      "margin": null,
      "max_height": null,
      "max_width": null,
      "min_height": null,
      "min_width": null,
      "object_fit": null,
      "object_position": null,
      "order": null,
      "overflow": null,
      "overflow_x": null,
      "overflow_y": null,
      "padding": null,
      "right": null,
      "top": null,
      "visibility": null,
      "width": null
     }
    },
    "41d9c621ebd145cebdc61930bb216a3a": {
     "model_module": "@jupyter-widgets/output",
     "model_module_version": "1.0.0",
     "model_name": "OutputModel",
     "state": {
      "_dom_classes": [],
      "_model_module": "@jupyter-widgets/output",
      "_model_module_version": "1.0.0",
      "_model_name": "OutputModel",
      "_view_count": null,
      "_view_module": "@jupyter-widgets/output",
      "_view_module_version": "1.0.0",
      "_view_name": "OutputView",
      "layout": "IPY_MODEL_b30a16918bb145bb9cce48aa08beff6b",
      "msg_id": "",
      "outputs": [
       {
        "data": {
         "text/html": "<pre style=\"white-space:pre;overflow-x:auto;line-height:normal;font-family:Menlo,'DejaVu Sans Mono',consolas,'Courier New',monospace\"><span style=\"color: #008080; text-decoration-color: #008080; font-weight: bold\">🚀 Crew: crew</span>\n├── <span style=\"color: #008000; text-decoration-color: #008000; font-weight: bold\">📋 Task: b80468f3-54e8-465f-aae4-f15617a4d1a5</span>\n│   <span style=\"color: #c0c0c0; text-decoration-color: #c0c0c0\">Assigned to: </span><span style=\"color: #008000; text-decoration-color: #008000\">Senior Database Developer</span>\n│   <span style=\"color: #c0c0c0; text-decoration-color: #c0c0c0\">Status: </span><span style=\"color: #008000; text-decoration-color: #008000; font-weight: bold\">✅ Completed</span>\n│   └── <span style=\"color: #008000; text-decoration-color: #008000; font-weight: bold\">🔧 </span><span style=\"color: #008000; text-decoration-color: #008000\">Used list_tables (4)</span>\n├── <span style=\"color: #008000; text-decoration-color: #008000; font-weight: bold\">📋 Task: 980987af-cc6b-4e3d-938c-3171449b66b7</span>\n│   <span style=\"color: #c0c0c0; text-decoration-color: #c0c0c0\">Assigned to: </span><span style=\"color: #008000; text-decoration-color: #008000\">Senior Data Analyst</span>\n│   <span style=\"color: #c0c0c0; text-decoration-color: #c0c0c0\">Status: </span><span style=\"color: #008000; text-decoration-color: #008000; font-weight: bold\">✅ Completed</span>\n└── <span style=\"color: #800000; text-decoration-color: #800000; font-weight: bold\">📋 Task: 4081f05f-7c6d-478b-b03b-30c3b6fcd0ef</span>\n    <span style=\"color: #c0c0c0; text-decoration-color: #c0c0c0\">Assigned to: </span><span style=\"color: #800000; text-decoration-color: #800000\">Senior Report Editor</span>\n    <span style=\"color: #c0c0c0; text-decoration-color: #c0c0c0\">Status: </span><span style=\"color: #800000; text-decoration-color: #800000; font-weight: bold\">❌ Failed</span>\n</pre>\n",
         "text/plain": "\u001b[1;36m🚀 Crew: \u001b[0m\u001b[1;36mcrew\u001b[0m\n├── \u001b[1;32m📋 Task: b80468f3-54e8-465f-aae4-f15617a4d1a5\u001b[0m\n│   \u001b[37mAssigned to: \u001b[0m\u001b[32mSenior Database Developer\u001b[0m\n│   \u001b[37mStatus: \u001b[0m\u001b[1;32m✅ Completed\u001b[0m\n│   └── \u001b[1;32m🔧 \u001b[0m\u001b[32mUsed list_tables (4)\u001b[0m\n├── \u001b[1;32m📋 Task: 980987af-cc6b-4e3d-938c-3171449b66b7\u001b[0m\n│   \u001b[37mAssigned to: \u001b[0m\u001b[32mSenior Data Analyst\u001b[0m\n│   \u001b[37mStatus: \u001b[0m\u001b[1;32m✅ Completed\u001b[0m\n└── \u001b[1;31m📋 Task: 4081f05f-7c6d-478b-b03b-30c3b6fcd0ef\u001b[0m\n    \u001b[37mAssigned to: \u001b[0m\u001b[31mSenior Report Editor\u001b[0m\n    \u001b[37mStatus: \u001b[0m\u001b[1;31m❌ Failed\u001b[0m\n"
        },
        "metadata": {},
        "output_type": "display_data"
       }
      ]
     }
    },
    "57bd3f83cfa14e5ba178ee86e178e82c": {
     "model_module": "@jupyter-widgets/output",
     "model_module_version": "1.0.0",
     "model_name": "OutputModel",
     "state": {
      "_dom_classes": [],
      "_model_module": "@jupyter-widgets/output",
      "_model_module_version": "1.0.0",
      "_model_name": "OutputModel",
      "_view_count": null,
      "_view_module": "@jupyter-widgets/output",
      "_view_module_version": "1.0.0",
      "_view_name": "OutputView",
      "layout": "IPY_MODEL_1d36e19c9e094ec09133d16028ae2201",
      "msg_id": "",
      "outputs": [
       {
        "data": {
         "text/html": "<pre style=\"white-space:pre;overflow-x:auto;line-height:normal;font-family:Menlo,'DejaVu Sans Mono',consolas,'Courier New',monospace\"><span style=\"color: #008080; text-decoration-color: #008080; font-weight: bold\">🚀 Crew: crew</span>\n└── <span style=\"color: #808000; text-decoration-color: #808000; font-weight: bold\">📋 Task: b80468f3-54e8-465f-aae4-f15617a4d1a5</span>\n    <span style=\"color: #c0c0c0; text-decoration-color: #c0c0c0\">Status: </span><span style=\"color: #bfbf7f; text-decoration-color: #bfbf7f\">Executing Task...</span>\n    └── <span style=\"color: #808000; text-decoration-color: #808000; font-weight: bold\">🔧 </span><span style=\"color: #808000; text-decoration-color: #808000\">Using list_tables (4)</span>\n</pre>\n",
         "text/plain": "\u001b[1;36m🚀 Crew: \u001b[0m\u001b[1;36mcrew\u001b[0m\n└── \u001b[1;33m📋 Task: b80468f3-54e8-465f-aae4-f15617a4d1a5\u001b[0m\n    \u001b[37mStatus: \u001b[0m\u001b[2;33mExecuting Task...\u001b[0m\n    └── \u001b[1;33m🔧 \u001b[0m\u001b[33mUsing list_tables (4)\u001b[0m\n"
        },
        "metadata": {},
        "output_type": "display_data"
       }
      ]
     }
    },
    "92909288908a460dadabf23a16bfe843": {
     "model_module": "@jupyter-widgets/base",
     "model_module_version": "1.2.0",
     "model_name": "LayoutModel",
     "state": {
      "_model_module": "@jupyter-widgets/base",
      "_model_module_version": "1.2.0",
      "_model_name": "LayoutModel",
      "_view_count": null,
      "_view_module": "@jupyter-widgets/base",
      "_view_module_version": "1.2.0",
      "_view_name": "LayoutView",
      "align_content": null,
      "align_items": null,
      "align_self": null,
      "border": null,
      "bottom": null,
      "display": null,
      "flex": null,
      "flex_flow": null,
      "grid_area": null,
      "grid_auto_columns": null,
      "grid_auto_flow": null,
      "grid_auto_rows": null,
      "grid_column": null,
      "grid_gap": null,
      "grid_row": null,
      "grid_template_areas": null,
      "grid_template_columns": null,
      "grid_template_rows": null,
      "height": null,
      "justify_content": null,
      "justify_items": null,
      "left": null,
      "margin": null,
      "max_height": null,
      "max_width": null,
      "min_height": null,
      "min_width": null,
      "object_fit": null,
      "object_position": null,
      "order": null,
      "overflow": null,
      "overflow_x": null,
      "overflow_y": null,
      "padding": null,
      "right": null,
      "top": null,
      "visibility": null,
      "width": null
     }
    },
    "b30a16918bb145bb9cce48aa08beff6b": {
     "model_module": "@jupyter-widgets/base",
     "model_module_version": "1.2.0",
     "model_name": "LayoutModel",
     "state": {
      "_model_module": "@jupyter-widgets/base",
      "_model_module_version": "1.2.0",
      "_model_name": "LayoutModel",
      "_view_count": null,
      "_view_module": "@jupyter-widgets/base",
      "_view_module_version": "1.2.0",
      "_view_name": "LayoutView",
      "align_content": null,
      "align_items": null,
      "align_self": null,
      "border": null,
      "bottom": null,
      "display": null,
      "flex": null,
      "flex_flow": null,
      "grid_area": null,
      "grid_auto_columns": null,
      "grid_auto_flow": null,
      "grid_auto_rows": null,
      "grid_column": null,
      "grid_gap": null,
      "grid_row": null,
      "grid_template_areas": null,
      "grid_template_columns": null,
      "grid_template_rows": null,
      "height": null,
      "justify_content": null,
      "justify_items": null,
      "left": null,
      "margin": null,
      "max_height": null,
      "max_width": null,
      "min_height": null,
      "min_width": null,
      "object_fit": null,
      "object_position": null,
      "order": null,
      "overflow": null,
      "overflow_x": null,
      "overflow_y": null,
      "padding": null,
      "right": null,
      "top": null,
      "visibility": null,
      "width": null
     }
    },
    "bbd4835f37b34e0cbdfd8084798de7dd": {
     "model_module": "@jupyter-widgets/output",
     "model_module_version": "1.0.0",
     "model_name": "OutputModel",
     "state": {
      "_dom_classes": [],
      "_model_module": "@jupyter-widgets/output",
      "_model_module_version": "1.0.0",
      "_model_name": "OutputModel",
      "_view_count": null,
      "_view_module": "@jupyter-widgets/output",
      "_view_module_version": "1.0.0",
      "_view_name": "OutputView",
      "layout": "IPY_MODEL_153cc59362fe402ba54df08716dab685",
      "msg_id": "",
      "outputs": [
       {
        "data": {
         "text/html": "<pre style=\"white-space:pre;overflow-x:auto;line-height:normal;font-family:Menlo,'DejaVu Sans Mono',consolas,'Courier New',monospace\"><span style=\"color: #008080; text-decoration-color: #008080; font-weight: bold\">🚀 Crew: crew</span>\n├── <span style=\"color: #008000; text-decoration-color: #008000; font-weight: bold\">📋 Task: b80468f3-54e8-465f-aae4-f15617a4d1a5</span>\n│   <span style=\"color: #c0c0c0; text-decoration-color: #c0c0c0\">Assigned to: </span><span style=\"color: #008000; text-decoration-color: #008000\">Senior Database Developer</span>\n│   <span style=\"color: #c0c0c0; text-decoration-color: #c0c0c0\">Status: </span><span style=\"color: #008000; text-decoration-color: #008000; font-weight: bold\">✅ Completed</span>\n│   └── <span style=\"color: #008000; text-decoration-color: #008000; font-weight: bold\">🔧 </span><span style=\"color: #008000; text-decoration-color: #008000\">Used list_tables (4)</span>\n└── <span style=\"color: #808000; text-decoration-color: #808000; font-weight: bold\">📋 Task: 980987af-cc6b-4e3d-938c-3171449b66b7</span>\n    <span style=\"color: #c0c0c0; text-decoration-color: #c0c0c0\">Status: </span><span style=\"color: #bfbf7f; text-decoration-color: #bfbf7f\">Executing Task...</span>\n</pre>\n",
         "text/plain": "\u001b[1;36m🚀 Crew: \u001b[0m\u001b[1;36mcrew\u001b[0m\n├── \u001b[1;32m📋 Task: b80468f3-54e8-465f-aae4-f15617a4d1a5\u001b[0m\n│   \u001b[37mAssigned to: \u001b[0m\u001b[32mSenior Database Developer\u001b[0m\n│   \u001b[37mStatus: \u001b[0m\u001b[1;32m✅ Completed\u001b[0m\n│   └── \u001b[1;32m🔧 \u001b[0m\u001b[32mUsed list_tables (4)\u001b[0m\n└── \u001b[1;33m📋 Task: 980987af-cc6b-4e3d-938c-3171449b66b7\u001b[0m\n    \u001b[37mStatus: \u001b[0m\u001b[2;33mExecuting Task...\u001b[0m\n"
        },
        "metadata": {},
        "output_type": "display_data"
       }
      ]
     }
    },
    "d20252f9a28e4f768e9531fd2f8c3151": {
     "model_module": "@jupyter-widgets/output",
     "model_module_version": "1.0.0",
     "model_name": "OutputModel",
     "state": {
      "_dom_classes": [],
      "_model_module": "@jupyter-widgets/output",
      "_model_module_version": "1.0.0",
      "_model_name": "OutputModel",
      "_view_count": null,
      "_view_module": "@jupyter-widgets/output",
      "_view_module_version": "1.0.0",
      "_view_name": "OutputView",
      "layout": "IPY_MODEL_0f9bbc6918b746fb9af17ee99760d8f7",
      "msg_id": "",
      "outputs": [
       {
        "data": {
         "text/html": "<pre style=\"white-space:pre;overflow-x:auto;line-height:normal;font-family:Menlo,'DejaVu Sans Mono',consolas,'Courier New',monospace\"><span style=\"color: #008080; text-decoration-color: #008080; font-weight: bold\">🚀 Crew: crew</span>\n├── <span style=\"color: #008000; text-decoration-color: #008000; font-weight: bold\">📋 Task: b80468f3-54e8-465f-aae4-f15617a4d1a5</span>\n│   <span style=\"color: #c0c0c0; text-decoration-color: #c0c0c0\">Assigned to: </span><span style=\"color: #008000; text-decoration-color: #008000\">Senior Database Developer</span>\n│   <span style=\"color: #c0c0c0; text-decoration-color: #c0c0c0\">Status: </span><span style=\"color: #008000; text-decoration-color: #008000; font-weight: bold\">✅ Completed</span>\n│   └── <span style=\"color: #008000; text-decoration-color: #008000; font-weight: bold\">🔧 </span><span style=\"color: #008000; text-decoration-color: #008000\">Used list_tables (4)</span>\n├── <span style=\"color: #008000; text-decoration-color: #008000; font-weight: bold\">📋 Task: 980987af-cc6b-4e3d-938c-3171449b66b7</span>\n│   <span style=\"color: #c0c0c0; text-decoration-color: #c0c0c0\">Assigned to: </span><span style=\"color: #008000; text-decoration-color: #008000\">Senior Data Analyst</span>\n│   <span style=\"color: #c0c0c0; text-decoration-color: #c0c0c0\">Status: </span><span style=\"color: #008000; text-decoration-color: #008000; font-weight: bold\">✅ Completed</span>\n└── <span style=\"color: #808000; text-decoration-color: #808000; font-weight: bold\">📋 Task: 4081f05f-7c6d-478b-b03b-30c3b6fcd0ef</span>\n    <span style=\"color: #c0c0c0; text-decoration-color: #c0c0c0\">Status: </span><span style=\"color: #bfbf7f; text-decoration-color: #bfbf7f\">Executing Task...</span>\n</pre>\n",
         "text/plain": "\u001b[1;36m🚀 Crew: \u001b[0m\u001b[1;36mcrew\u001b[0m\n├── \u001b[1;32m📋 Task: b80468f3-54e8-465f-aae4-f15617a4d1a5\u001b[0m\n│   \u001b[37mAssigned to: \u001b[0m\u001b[32mSenior Database Developer\u001b[0m\n│   \u001b[37mStatus: \u001b[0m\u001b[1;32m✅ Completed\u001b[0m\n│   └── \u001b[1;32m🔧 \u001b[0m\u001b[32mUsed list_tables (4)\u001b[0m\n├── \u001b[1;32m📋 Task: 980987af-cc6b-4e3d-938c-3171449b66b7\u001b[0m\n│   \u001b[37mAssigned to: \u001b[0m\u001b[32mSenior Data Analyst\u001b[0m\n│   \u001b[37mStatus: \u001b[0m\u001b[1;32m✅ Completed\u001b[0m\n└── \u001b[1;33m📋 Task: 4081f05f-7c6d-478b-b03b-30c3b6fcd0ef\u001b[0m\n    \u001b[37mStatus: \u001b[0m\u001b[2;33mExecuting Task...\u001b[0m\n"
        },
        "metadata": {},
        "output_type": "display_data"
       }
      ]
     }
    },
    "d4e24cfe81874b2ab3a4c4c5212f1aa9": {
     "model_module": "@jupyter-widgets/output",
     "model_module_version": "1.0.0",
     "model_name": "OutputModel",
     "state": {
      "_dom_classes": [],
      "_model_module": "@jupyter-widgets/output",
      "_model_module_version": "1.0.0",
      "_model_name": "OutputModel",
      "_view_count": null,
      "_view_module": "@jupyter-widgets/output",
      "_view_module_version": "1.0.0",
      "_view_name": "OutputView",
      "layout": "IPY_MODEL_0f202cb8680f44a4add12be146113e2f",
      "msg_id": "",
      "outputs": [
       {
        "data": {
         "text/html": "<pre style=\"white-space:pre;overflow-x:auto;line-height:normal;font-family:Menlo,'DejaVu Sans Mono',consolas,'Courier New',monospace\"><span style=\"color: #008080; text-decoration-color: #008080; font-weight: bold\">🚀 Crew: crew</span>\n└── <span style=\"color: #808000; text-decoration-color: #808000; font-weight: bold\">📋 Task: b80468f3-54e8-465f-aae4-f15617a4d1a5</span>\n    <span style=\"color: #c0c0c0; text-decoration-color: #c0c0c0\">Status: </span><span style=\"color: #bfbf7f; text-decoration-color: #bfbf7f\">Executing Task...</span>\n    └── <span style=\"color: #008000; text-decoration-color: #008000; font-weight: bold\">🔧 </span><span style=\"color: #008000; text-decoration-color: #008000\">Used list_tables (4)</span>\n</pre>\n",
         "text/plain": "\u001b[1;36m🚀 Crew: \u001b[0m\u001b[1;36mcrew\u001b[0m\n└── \u001b[1;33m📋 Task: b80468f3-54e8-465f-aae4-f15617a4d1a5\u001b[0m\n    \u001b[37mStatus: \u001b[0m\u001b[2;33mExecuting Task...\u001b[0m\n    └── \u001b[1;32m🔧 \u001b[0m\u001b[32mUsed list_tables (4)\u001b[0m\n"
        },
        "metadata": {},
        "output_type": "display_data"
       }
      ]
     }
    },
    "ee796e6d7ab140da9f2b06a77e797dd0": {
     "model_module": "@jupyter-widgets/output",
     "model_module_version": "1.0.0",
     "model_name": "OutputModel",
     "state": {
      "_dom_classes": [],
      "_model_module": "@jupyter-widgets/output",
      "_model_module_version": "1.0.0",
      "_model_name": "OutputModel",
      "_view_count": null,
      "_view_module": "@jupyter-widgets/output",
      "_view_module_version": "1.0.0",
      "_view_name": "OutputView",
      "layout": "IPY_MODEL_92909288908a460dadabf23a16bfe843",
      "msg_id": "",
      "outputs": [
       {
        "data": {
         "text/html": "<pre style=\"white-space:pre;overflow-x:auto;line-height:normal;font-family:Menlo,'DejaVu Sans Mono',consolas,'Courier New',monospace\"><span style=\"color: #008080; text-decoration-color: #008080; font-weight: bold\">🚀 Crew: crew</span>\n├── <span style=\"color: #008000; text-decoration-color: #008000; font-weight: bold\">📋 Task: b80468f3-54e8-465f-aae4-f15617a4d1a5</span>\n│   <span style=\"color: #c0c0c0; text-decoration-color: #c0c0c0\">Assigned to: </span><span style=\"color: #008000; text-decoration-color: #008000\">Senior Database Developer</span>\n│   <span style=\"color: #c0c0c0; text-decoration-color: #c0c0c0\">Status: </span><span style=\"color: #008000; text-decoration-color: #008000; font-weight: bold\">✅ Completed</span>\n│   └── <span style=\"color: #008000; text-decoration-color: #008000; font-weight: bold\">🔧 </span><span style=\"color: #008000; text-decoration-color: #008000\">Used list_tables (4)</span>\n├── <span style=\"color: #008000; text-decoration-color: #008000; font-weight: bold\">📋 Task: 980987af-cc6b-4e3d-938c-3171449b66b7</span>\n│   <span style=\"color: #c0c0c0; text-decoration-color: #c0c0c0\">Assigned to: </span><span style=\"color: #008000; text-decoration-color: #008000\">Senior Data Analyst</span>\n│   <span style=\"color: #c0c0c0; text-decoration-color: #c0c0c0\">Status: </span><span style=\"color: #008000; text-decoration-color: #008000; font-weight: bold\">✅ Completed</span>\n└── <span style=\"color: #808000; text-decoration-color: #808000; font-weight: bold\">📋 Task: 4081f05f-7c6d-478b-b03b-30c3b6fcd0ef</span>\n    <span style=\"color: #c0c0c0; text-decoration-color: #c0c0c0\">Status: </span><span style=\"color: #bfbf7f; text-decoration-color: #bfbf7f\">Executing Task...</span>\n</pre>\n",
         "text/plain": "\u001b[1;36m🚀 Crew: \u001b[0m\u001b[1;36mcrew\u001b[0m\n├── \u001b[1;32m📋 Task: b80468f3-54e8-465f-aae4-f15617a4d1a5\u001b[0m\n│   \u001b[37mAssigned to: \u001b[0m\u001b[32mSenior Database Developer\u001b[0m\n│   \u001b[37mStatus: \u001b[0m\u001b[1;32m✅ Completed\u001b[0m\n│   └── \u001b[1;32m🔧 \u001b[0m\u001b[32mUsed list_tables (4)\u001b[0m\n├── \u001b[1;32m📋 Task: 980987af-cc6b-4e3d-938c-3171449b66b7\u001b[0m\n│   \u001b[37mAssigned to: \u001b[0m\u001b[32mSenior Data Analyst\u001b[0m\n│   \u001b[37mStatus: \u001b[0m\u001b[1;32m✅ Completed\u001b[0m\n└── \u001b[1;33m📋 Task: 4081f05f-7c6d-478b-b03b-30c3b6fcd0ef\u001b[0m\n    \u001b[37mStatus: \u001b[0m\u001b[2;33mExecuting Task...\u001b[0m\n"
        },
        "metadata": {},
        "output_type": "display_data"
       }
      ]
     }
    }
   }
  }
 },
 "nbformat": 4,
 "nbformat_minor": 0
}
